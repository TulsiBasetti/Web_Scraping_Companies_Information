{
 "cells": [
  {
   "cell_type": "code",
   "execution_count": 1,
   "id": "b3bf263d",
   "metadata": {},
   "outputs": [],
   "source": [
    "import pandas as pd \n",
    "import requests\n",
    "from bs4 import BeautifulSoup"
   ]
  },
  {
   "cell_type": "code",
   "execution_count": 2,
   "id": "9967c65a",
   "metadata": {},
   "outputs": [],
   "source": [
    "url='https://en.wikipedia.org/wiki/List_of_companies_of_India'\n",
    "page=requests.get(url)\n",
    "soup=BeautifulSoup(page.text,'html')"
   ]
  },
  {
   "cell_type": "code",
   "execution_count": 3,
   "id": "68f4b754",
   "metadata": {},
   "outputs": [],
   "source": [
    "# soup"
   ]
  },
  {
   "cell_type": "code",
   "execution_count": 1,
   "id": "e5ec7737",
   "metadata": {},
   "outputs": [],
   "source": [
    "# soup.find_all('table',class_='wikitable sortable')"
   ]
  },
  {
   "cell_type": "code",
   "execution_count": 5,
   "id": "68c0209c",
   "metadata": {},
   "outputs": [],
   "source": [
    "tables = soup.find_all('table', {'class': 'wikitable'})"
   ]
  },
  {
   "cell_type": "code",
   "execution_count": 6,
   "id": "38394b19",
   "metadata": {},
   "outputs": [],
   "source": [
    "# notable_firms_table =tables[1]\n",
    "notable_firms_table=tables[1]"
   ]
  },
  {
   "cell_type": "code",
   "execution_count": 7,
   "id": "3454f40f",
   "metadata": {},
   "outputs": [],
   "source": [
    "titles=notable_firms_table.find_all('th')"
   ]
  },
  {
   "cell_type": "code",
   "execution_count": 8,
   "id": "530cd3bf",
   "metadata": {},
   "outputs": [
    {
     "name": "stdout",
     "output_type": "stream",
     "text": [
      "['Name', 'Industry', 'Sector', 'Headquarters', 'Founded', 'Notes', 'Status', '', '']\n",
      "['Name', 'Industry', 'Sector', 'Headquarters', 'Founded', 'Notes', 'Status_Type', 'Status_State']\n"
     ]
    }
   ],
   "source": [
    "# Apply List Comprehension\n",
    "table_titles = [title.text.strip() for title in titles]\n",
    "print(table_titles)\n",
    "if 'Status' in table_titles:\n",
    "    idx = table_titles.index('Status') # index of 'Status' column=6\n",
    "    table_titles[idx:idx+3] = ['Status_Type', 'Status_State'] # replace next 3 indexes with given column names \n",
    "print(table_titles)"
   ]
  },
  {
   "cell_type": "code",
   "execution_count": 9,
   "id": "c0839b6a",
   "metadata": {},
   "outputs": [
    {
     "data": {
      "text/html": [
       "<div>\n",
       "<style scoped>\n",
       "    .dataframe tbody tr th:only-of-type {\n",
       "        vertical-align: middle;\n",
       "    }\n",
       "\n",
       "    .dataframe tbody tr th {\n",
       "        vertical-align: top;\n",
       "    }\n",
       "\n",
       "    .dataframe thead th {\n",
       "        text-align: right;\n",
       "    }\n",
       "</style>\n",
       "<table border=\"1\" class=\"dataframe\">\n",
       "  <thead>\n",
       "    <tr style=\"text-align: right;\">\n",
       "      <th></th>\n",
       "      <th>Name</th>\n",
       "      <th>Industry</th>\n",
       "      <th>Sector</th>\n",
       "      <th>Headquarters</th>\n",
       "      <th>Founded</th>\n",
       "      <th>Notes</th>\n",
       "      <th>Status_Type</th>\n",
       "      <th>Status_State</th>\n",
       "    </tr>\n",
       "  </thead>\n",
       "  <tbody>\n",
       "  </tbody>\n",
       "</table>\n",
       "</div>"
      ],
      "text/plain": [
       "Empty DataFrame\n",
       "Columns: [Name, Industry, Sector, Headquarters, Founded, Notes, Status_Type, Status_State]\n",
       "Index: []"
      ]
     },
     "execution_count": 9,
     "metadata": {},
     "output_type": "execute_result"
    }
   ],
   "source": [
    "# Creat Dataframe \n",
    "df=pd.DataFrame(columns=table_titles)\n",
    "df"
   ]
  },
  {
   "cell_type": "code",
   "execution_count": 10,
   "id": "15e495a5",
   "metadata": {},
   "outputs": [],
   "source": [
    "column_data=notable_firms_table.find_all('tr')"
   ]
  },
  {
   "cell_type": "code",
   "execution_count": 11,
   "id": "9d8ddd88",
   "metadata": {},
   "outputs": [],
   "source": [
    "for row in column_data[2:]:\n",
    "    row_data=row.find_all('td')\n",
    "    individual_row_data=[data.text.strip() for data in row_data]\n",
    "    # print(individual_row_data)\n",
    "    # Store the information in the dataframe\n",
    "    length=len(df)\n",
    "    df.loc[length]=individual_row_data"
   ]
  },
  {
   "cell_type": "code",
   "execution_count": 17,
   "id": "918cbb29",
   "metadata": {},
   "outputs": [
    {
     "data": {
      "text/html": [
       "<div>\n",
       "<style scoped>\n",
       "    .dataframe tbody tr th:only-of-type {\n",
       "        vertical-align: middle;\n",
       "    }\n",
       "\n",
       "    .dataframe tbody tr th {\n",
       "        vertical-align: top;\n",
       "    }\n",
       "\n",
       "    .dataframe thead th {\n",
       "        text-align: right;\n",
       "    }\n",
       "</style>\n",
       "<table border=\"1\" class=\"dataframe\">\n",
       "  <thead>\n",
       "    <tr style=\"text-align: right;\">\n",
       "      <th></th>\n",
       "      <th>Name</th>\n",
       "      <th>Industry</th>\n",
       "      <th>Sector</th>\n",
       "      <th>Headquarters</th>\n",
       "      <th>Founded</th>\n",
       "      <th>Notes</th>\n",
       "      <th>Status_Type</th>\n",
       "      <th>Status_State</th>\n",
       "    </tr>\n",
       "  </thead>\n",
       "  <tbody>\n",
       "    <tr>\n",
       "      <th>0</th>\n",
       "      <td>63 Moons Technologies</td>\n",
       "      <td>Technology</td>\n",
       "      <td>Software</td>\n",
       "      <td>Mumbai</td>\n",
       "      <td>1988</td>\n",
       "      <td>Financial technology</td>\n",
       "      <td>P</td>\n",
       "      <td>A</td>\n",
       "    </tr>\n",
       "    <tr>\n",
       "      <th>1</th>\n",
       "      <td>Aban Offshore</td>\n",
       "      <td>Energy</td>\n",
       "      <td>Oil &amp; gas offshore drilling &amp; other services</td>\n",
       "      <td>Chennai</td>\n",
       "      <td>1986</td>\n",
       "      <td>Oil, petrochemical</td>\n",
       "      <td>P</td>\n",
       "      <td>A</td>\n",
       "    </tr>\n",
       "    <tr>\n",
       "      <th>2</th>\n",
       "      <td>ABG Shipyard</td>\n",
       "      <td>Industrials</td>\n",
       "      <td>Shipbuilding</td>\n",
       "      <td>Ahmedabad</td>\n",
       "      <td>1985</td>\n",
       "      <td>Ship building</td>\n",
       "      <td>P</td>\n",
       "      <td>A</td>\n",
       "    </tr>\n",
       "    <tr>\n",
       "      <th>3</th>\n",
       "      <td>ABP Group</td>\n",
       "      <td>Consumer services</td>\n",
       "      <td>Broadcasting &amp; entertainment</td>\n",
       "      <td>Kolkata</td>\n",
       "      <td>1922</td>\n",
       "      <td>Media, news</td>\n",
       "      <td>P</td>\n",
       "      <td>A</td>\n",
       "    </tr>\n",
       "    <tr>\n",
       "      <th>4</th>\n",
       "      <td>ACC</td>\n",
       "      <td>Industrials</td>\n",
       "      <td>Cement</td>\n",
       "      <td>Mumbai</td>\n",
       "      <td>1936</td>\n",
       "      <td>Cement</td>\n",
       "      <td>P</td>\n",
       "      <td>A</td>\n",
       "    </tr>\n",
       "  </tbody>\n",
       "</table>\n",
       "</div>"
      ],
      "text/plain": [
       "                    Name           Industry  \\\n",
       "0  63 Moons Technologies         Technology   \n",
       "1          Aban Offshore             Energy   \n",
       "2           ABG Shipyard        Industrials   \n",
       "3              ABP Group  Consumer services   \n",
       "4                    ACC        Industrials   \n",
       "\n",
       "                                         Sector Headquarters Founded  \\\n",
       "0                                      Software       Mumbai    1988   \n",
       "1  Oil & gas offshore drilling & other services      Chennai    1986   \n",
       "2                                  Shipbuilding    Ahmedabad    1985   \n",
       "3                  Broadcasting & entertainment      Kolkata    1922   \n",
       "4                                        Cement       Mumbai    1936   \n",
       "\n",
       "                  Notes Status_Type Status_State  \n",
       "0  Financial technology           P            A  \n",
       "1    Oil, petrochemical           P            A  \n",
       "2         Ship building           P            A  \n",
       "3           Media, news           P            A  \n",
       "4                Cement           P            A  "
      ]
     },
     "execution_count": 17,
     "metadata": {},
     "output_type": "execute_result"
    }
   ],
   "source": [
    "df.head()"
   ]
  },
  {
   "cell_type": "code",
   "execution_count": 14,
   "id": "43503bce",
   "metadata": {},
   "outputs": [],
   "source": [
    "df.to_csv(r'C:\\AI-ML-Concept-Math&Algorithm-Code\\Web_Scraping_Companies_Information\\List_of_Notable_Companies_in_India.csv')"
   ]
  }
 ],
 "metadata": {
  "kernelspec": {
   "display_name": "Python 3",
   "language": "python",
   "name": "python3"
  },
  "language_info": {
   "codemirror_mode": {
    "name": "ipython",
    "version": 3
   },
   "file_extension": ".py",
   "mimetype": "text/x-python",
   "name": "python",
   "nbconvert_exporter": "python",
   "pygments_lexer": "ipython3",
   "version": "3.12.1"
  }
 },
 "nbformat": 4,
 "nbformat_minor": 5
}
